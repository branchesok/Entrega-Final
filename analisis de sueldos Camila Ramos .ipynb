{
 "cells": [
  {
   "cell_type": "markdown",
   "id": "fd3fa483-c0db-463e-94d7-99b33e0f342e",
   "metadata": {},
   "source": [
    "# Análisis de sueldos con Python"
   ]
  },
  {
   "cell_type": "markdown",
   "id": "ade5a290-3d22-4151-bedf-8a51fcac2300",
   "metadata": {},
   "source": [
    "## Data\n",
    "\n",
    "* [2021.2 - sysarmy - Encuesta de remuneración salarial Argentina\n",
    "](https://docs.google.com/spreadsheets/d/1-ZRznwS4TK74o90aOiCKS5SiXxUQ2buN1wxZIMHQmzQ/edit#gid=557755710) \n",
    "* [2021.2 - sysarmy - Encuesta de remuneración salarial Latam\n",
    "](https://docs.google.com/spreadsheets/d/1BkBNt1MHVS7DeIlpgmK9l6krtSQ5t_olRhlcyxMeKy0/edit#gid=557755710)"
   ]
  },
  {
   "cell_type": "markdown",
   "id": "684accd7-8da2-41d5-985b-caa44133b114",
   "metadata": {},
   "source": [
    "1. Descargar, leer y unir en una sola estructura de datos. ¿Qué estructura elegiste y por qué?"
   ]
  },
  {
   "cell_type": "code",
   "execution_count": 173,
   "id": "cfa3ef02-5aba-4793-8a27-a1fdc4fb7111",
   "metadata": {},
   "outputs": [],
   "source": [
    "# 2021.2 - sysarmy - Encuesta de remuneración salarial Argentina - Argentina.csv\n",
    "# 2021.2 - sysarmy - Encuesta de remuneración salarial Latam - Latam.csv\n",
    "\n",
    "import csv #libreria para leer csv\n",
    "\n",
    "path_to_file_1 = '2021.2 - sysarmy - Encuesta de remuneración salarial Argentina - Argentina.csv'\n",
    "path_to_file_2 = '2021.2 - sysarmy - Encuesta de remuneración salarial Latam - Latam.csv'\n",
    "\n",
    "raw_cases_list_ARG = []\n",
    "raw_cases_list_LATAM = []\n",
    "\n",
    "\n",
    "with open(f\"{path_to_file_1}\", \"r\") as f1:\n",
    "    reader = csv.reader(f1)\n",
    "    for linea in reader:\n",
    "        raw_cases_list_ARG.append(linea)\n",
    "\n",
    "with open(f\"{path_to_file_2}\", \"r\") as f2:\n",
    "    reader = csv.reader(f2)\n",
    "    for linea in reader:\n",
    "        raw_cases_list_LATAM.append(linea)\n"
   ]
  },
  {
   "cell_type": "code",
   "execution_count": 174,
   "id": "7b967eb4-1bb7-4d89-942d-d13eb5f74d8d",
   "metadata": {},
   "outputs": [
    {
     "name": "stdout",
     "output_type": "stream",
     "text": [
      "0 Dónde estás trabajando\n",
      "1 Tipo de contrato\n",
      "2 Salario mensual o retiro BRUTO (en tu moneda local)\n",
      "3 Salario mensual o retiro NETO (en tu moneda local)\n",
      "4 Pagos en dólares\n",
      "5 ¿Cuál fue el último valor de dólar que tomaron?\n",
      "6 ¿Qué tan conforme estás con tu sueldo?\n",
      "7 Cómo creés que está tu sueldo con respecto al último semestre\n",
      "8 Recibís algún tipo de bono\n",
      "9 A qué está atado el bono\n",
      "10 ¿Tuviste ajustes por inflación durante 2021?\n",
      "11 ¿De qué % fue el ajuste total?\n",
      "12 ¿En qué mes fue el último ajuste?\n",
      "13 Trabajo de\n",
      "14 Años de experiencia\n",
      "15 Años en la empresa actual\n",
      "16 Años en el puesto actual\n",
      "17 ¿Gente a cargo?\n",
      "18 Plataformas\n",
      "19 Lenguajes de programación o tecnologías.\n",
      "20 Frameworks, herramientas y librerías\n",
      "21 Bases de datos\n",
      "22 QA / Testing\n",
      "23 IDEs\n",
      "24 Cantidad de personas en tu organización\n",
      "25 Trabajo para una empresa que no tiene oficina en mi ciudad\n",
      "26 Actividad principal\n",
      "27 ¿La recomendás como un buen lugar para trabajar?\n",
      "28 ¿Cómo calificás las políticas de diversidad e inclusión?\n",
      "29 Beneficios extra\n",
      "30 ¿Salir o seguir contestando?\n",
      "31 Nivel de estudios alcanzado\n",
      "32 Estado\n",
      "33 Carrera\n",
      "34 Universidad\n",
      "35 Realizaste cursos de especialización\n",
      "36 ¿Contribuís a proyectos open source?\n",
      "37 ¿Programás como hobbie?\n",
      "38 ¿Salir o seguir contestando?\n",
      "39 ¿Tenés guardias?\n",
      "40 Cuánto cobrás por guardia\n",
      "41 ¿Porcentaje, bruto o neto?\n",
      "42 ¿Salir o seguir contestando?\n",
      "43 ¿Sufriste o presenciaste situaciones de violencia laboral?\n",
      "44 ¿Tenés algún tipo de discapacidad?\n",
      "45 ¿Sentís que esto te dificultó el conseguir trabajo?\n",
      "46 ¿Salir o seguir contestando?\n",
      "47 ¿Cómo venís llevando la pandemia?\n",
      "48 ¿Tenés hijos/as menores de edad?\n",
      "49 ¿Con cuántas personas estás conviviendo?\n",
      "50 ¿Con quiénes convivís?\n",
      "51 ¿Tenés un espacio dedicado para el trabajo?\n",
      "52 ¿Tenés que compartir tu equipo de trabajo con alguien?\n",
      "53 ¿Qué tipo de cuarentena hiciste / estás haciendo?\n",
      "54 ¿Cambió tu situación laboral a raíz de la pandemia?\n",
      "55 ¿Qué tanto sentís que te está apoyando tu empresa/organización en esta situación?\n",
      "56 ¿Cómo se vio afectada tu empresa/organización?\n",
      "57 ¿Instauraron algún beneficio nuevo?\n",
      "58 Tengo\n",
      "59 Me identifico\n"
     ]
    }
   ],
   "source": [
    "#chequeo posicion de cada pregunta para poder utilizarla como key de mi diccionario\n",
    "for i,c in enumerate(raw_cases_list_ARG[9]):\n",
    "    print (i,c)"
   ]
  },
  {
   "cell_type": "code",
   "execution_count": 175,
   "id": "6a63d88f-c5e4-4771-b22a-768cb6f8a48a",
   "metadata": {
    "tags": []
   },
   "outputs": [],
   "source": [
    "#borro filas sin respuestas\n",
    "del raw_cases_list_ARG[:10]"
   ]
  },
  {
   "cell_type": "code",
   "execution_count": 176,
   "id": "6a0fa949-9a7d-44c3-a8ee-9e0773a8aec3",
   "metadata": {},
   "outputs": [
    {
     "name": "stdout",
     "output_type": "stream",
     "text": [
      "6440\n"
     ]
    }
   ],
   "source": [
    "# armo lista de diccionaros con respuestas que voy a utilizar de ARG\n",
    "dict_cases_list_ARG =[]\n",
    "\n",
    "for case in raw_cases_list_ARG:\n",
    "       dict_cases_list_ARG.append({ \n",
    "           \"Pais\": \"Argentina\",\n",
    "           \"Region\": case[0],\n",
    "           \"Tipo contrato\": case[1],\n",
    "           \"Salario bruto\": case[2],\n",
    "           \"Salario neto\": case[3],\n",
    "           \"Sueldo dolarizado\": case[4],\n",
    "           \"Valor de dolar tomado\":case[5],\n",
    "           \"Tipo de rol\":case[13],\n",
    "           \"Años de experiencia\": case[14],\n",
    "           \"Antiguedad en la empresa actual\": case[15],\n",
    "           \"Antiguedad en el puesto actual\": case[16],\n",
    "           \"Lenguajes de programacion\": case[19],\n",
    "           \"Nivel de educacion\":case[31],\n",
    "           \"Estado del nivel\" :case[32],\n",
    "           \"Carrera Universitaria\": case[33],\n",
    "           \"Cursos de especializacion\": case[35],\n",
    "           \"Colabora en Open Source\": case [36],\n",
    "           \"Programa por hobbie\": case[37],\n",
    "           \"Persona con discapacidad\":case [44],\n",
    "           \"Edad\": case[58],\n",
    "           \"Identidad de genero\": case[59]\n",
    "            })\n",
    "\n",
    "print(len(dict_cases_list_ARG))\n",
    "        "
   ]
  },
  {
   "cell_type": "code",
   "execution_count": 177,
   "id": "67da6fc7-45d5-4c29-a2ae-0a71157e5a84",
   "metadata": {},
   "outputs": [
    {
     "name": "stdout",
     "output_type": "stream",
     "text": [
      "0 Estoy trabajando en\n",
      "1 Bolivia\n",
      "2 Chile\n",
      "3 Colombia\n",
      "4 Costa Rica\n",
      "5 Cuba\n",
      "6 Ecuador\n",
      "7 El Salvador\n",
      "8 Guatemala\n",
      "9 Honduras\n",
      "10 México\n",
      "11 Nicaragua\n",
      "12 Panamá\n",
      "13 Paraguay\n",
      "14 Perú\n",
      "15 Puerto Rico\n",
      "16 República Dominicana\n",
      "17 Uruguay\n",
      "18 Venezuela\n",
      "19 Tipo de contrato\n",
      "20 Salario mensual o retiro BRUTO (en tu moneda local)\n",
      "21 Salario mensual o retiro NETO (en tu moneda local)\n",
      "22 Pagos en dólares\n",
      "23 ¿Cuál fue el último valor de dólar que tomaron?\n",
      "24 ¿Qué tan conforme estás con tu sueldo?\n",
      "25 Cómo creés que está tu sueldo con respecto al último semestre\n",
      "26 Recibís algún tipo de bono\n",
      "27 A qué está atado el bono\n",
      "28 ¿Tuviste ajustes por inflación durante 2021?\n",
      "29 ¿De qué % fue el ajuste total?\n",
      "30 ¿En qué mes fue el último ajuste?\n",
      "31 Trabajo de\n",
      "32 Años de experiencia\n",
      "33 Años en la empresa actual\n",
      "34 Años en el puesto actual\n",
      "35 ¿Gente a cargo?\n",
      "36 Plataformas\n",
      "37 Lenguajes de programación o tecnologías.\n",
      "38 Frameworks, herramientas y librerías\n",
      "39 Bases de datos\n",
      "40 QA / Testing\n",
      "41 IDEs\n",
      "42 Cantidad de personas en tu organización\n",
      "43 \n",
      "44 Actividad principal\n",
      "45 ¿La recomendás como un buen lugar para trabajar?\n",
      "46 ¿Cómo calificás las políticas de diversidad e inclusión?\n",
      "47 Beneficios extra\n",
      "48 ¿Salir o seguir contestando?\n",
      "49 Nivel de estudios alcanzado\n",
      "50 Estado\n",
      "51 Carrera\n",
      "52 Universidad\n",
      "53 Realizaste cursos de especialización\n",
      "54 ¿Contribuís a proyectos open source?\n",
      "55 ¿Programás como hobbie?\n",
      "56 ¿Salir o seguir contestando?\n",
      "57 ¿Tenés guardias?\n",
      "58 Cuánto cobrás por guardia\n",
      "59 ¿Porcentaje, bruto o neto?\n",
      "60 ¿Salir o seguir contestando?\n",
      "61 ¿Sufriste o presenciaste situaciones de violencia laboral?\n",
      "62 ¿Tenés algún tipo de discapacidad?\n",
      "63 ¿Sentís que esto te dificultó el conseguir trabajo?\n",
      "64 ¿Salir o seguir contestando?\n",
      "65 ¿Cómo venís llevando la pandemia?\n",
      "66 ¿Tenés hijos/as menores de edad?\n",
      "67 ¿Con cuántas personas estás conviviendo?\n",
      "68 ¿Con quiénes convivís?\n",
      "69 ¿Tenés un espacio dedicado para el trabajo?\n",
      "70 ¿Tenés que compartir tu equipo de trabajo con alguien?\n",
      "71 ¿Qué tipo de cuarentena hiciste / estás haciendo?\n",
      "72 ¿Cambió tu situación laboral a raíz de la pandemia?\n",
      "73 ¿Qué tanto sentís que te está apoyando tu empresa/organización en esta situación?\n",
      "74 ¿Cómo se vio afectada tu empresa/organización?\n",
      "75 ¿Instauraron algún beneficio nuevo?\n",
      "76 Tengo\n",
      "77 Me identifico\n"
     ]
    }
   ],
   "source": [
    "#chequeo posicion de cada pregunta para poder utilizarla como key de mi diccionario\n",
    "for i,c in enumerate(raw_cases_list_LATAM[10]):\n",
    "    print (i,c)"
   ]
  },
  {
   "cell_type": "code",
   "execution_count": 178,
   "id": "f4e58cfc-e65e-4c02-b7e5-1b89352510c0",
   "metadata": {},
   "outputs": [],
   "source": [
    "#borro filas sin respuestas\n",
    "del raw_cases_list_LATAM[:11]"
   ]
  },
  {
   "cell_type": "code",
   "execution_count": 179,
   "id": "7920aecc-bbed-4e09-ba6d-a8855630382a",
   "metadata": {},
   "outputs": [
    {
     "name": "stdout",
     "output_type": "stream",
     "text": [
      "429\n"
     ]
    }
   ],
   "source": [
    "\n",
    "# armo lista de diccionaros con respuestas que voy a utilizar de LATAM\n",
    "dict_cases_list_LATAM =[]\n",
    "\n",
    "for case in raw_cases_list_LATAM:\n",
    "    for i in range (1,19): \n",
    "        if case[i]:\n",
    "            region = case[i]\n",
    "            break\n",
    "    dict_cases_list_LATAM.append({ \n",
    "           \"Pais\": case[0],\n",
    "           \"Region\": region,\n",
    "           \"Tipo contrato\": case[19],\n",
    "           \"Salario bruto\": case[20],\n",
    "           \"Salario neto\": case[21],\n",
    "           \"Sueldo dolarizado\": case[22],\n",
    "           \"Valor de dolar tomado\":case[23],\n",
    "           \"Tipo de rol\":case[31],\n",
    "           \"Años de experiencia\": case[32],\n",
    "           \"Antiguedad en la empresa actual\": case[33],\n",
    "           \"Antiguedad en el puesto actual\": case[34],\n",
    "           \"Lenguajes de programacion\": case[37],\n",
    "           \"Nivel de educacion\":case[49],\n",
    "           \"Estado del nivel\" :case[50],\n",
    "           \"Carrera Universitaria\": case[51],\n",
    "           \"Cursos de especializacion\": case[53],\n",
    "           \"Colabora en Open Source\": case [54],\n",
    "           \"Programa por hobbie\": case[55],\n",
    "           \"Persona con discapacidad\":case [62],\n",
    "           \"Edad\": case[76],\n",
    "           \"Identidad de genero\": case[77]\n",
    "            })\n",
    "\n",
    "print(len(dict_cases_list_LATAM))\n"
   ]
  },
  {
   "cell_type": "code",
   "execution_count": 180,
   "id": "de0e4e57-c3da-4039-89d8-cb58d689508b",
   "metadata": {},
   "outputs": [
    {
     "name": "stdout",
     "output_type": "stream",
     "text": [
      "6869\n"
     ]
    }
   ],
   "source": [
    "# hago la union de las dos listas de diccionarios y lo guardo como un nuevo diccionario unificado\n",
    "\n",
    "dict_cases_list_ALL = dict_cases_list_LATAM + dict_cases_list_ARG\n",
    "\n",
    "print(len(dict_cases_list_ALL))\n",
    "\n"
   ]
  },
  {
   "cell_type": "markdown",
   "id": "de5c8bec-41ea-4173-9b42-8bb3e7435d90",
   "metadata": {},
   "source": [
    "2. Printear porcentaje de participación por región, ordenado de mayor a menor. Ej: \n",
    "\n",
    "```\n",
    "- Ciudad Autónoma de Buenos Aires - 59.4%\n",
    "- Formosa - 0.04%\n",
    "```"
   ]
  },
  {
   "cell_type": "code",
   "execution_count": 181,
   "id": "ffc60133-8ed3-41ec-a745-904b74136a35",
   "metadata": {},
   "outputs": [],
   "source": [
    "#genero una lista de regiones a partir de los datos ARG + LATAM\n",
    "list_regiones = []\n",
    "\n",
    "for case in dict_cases_list_ALL:\n",
    "    region = case[\"Region\"]\n",
    "    if region not in list_regiones:\n",
    "        list_regiones.append(region)"
   ]
  },
  {
   "cell_type": "code",
   "execution_count": 182,
   "id": "1cd6b895-d0f0-439c-bb58-9e0e8fed8ce0",
   "metadata": {},
   "outputs": [],
   "source": [
    "#genero un diccionario de valores nulos con las regiones de la lista como keys\n",
    "dict_regiones = {}\n",
    "\n",
    "for region in list_regiones:\n",
    "    dict_regiones[region] = 0\n",
    "\n",
    "# dic con cantidad de respuestas por region \n",
    "for case in dict_cases_list_ALL:\n",
    "    region = case[\"Region\"]\n",
    "    dict_regiones[region] += 1\n",
    "\n",
    "#ordeno el diccionario de mayor a menor por cantidad de respuestas\n",
    "\n",
    "sorted_keys=sorted(dict_regiones,key=dict_regiones.get,reverse=True)\n",
    "\n",
    "sorted_dict_regiones ={}\n",
    "\n",
    "for key in sorted_keys:\n",
    "    sorted_dict_regiones[key] = dict_regiones[key]\n"
   ]
  },
  {
   "cell_type": "code",
   "execution_count": 183,
   "id": "7edc0d39-7b8e-48eb-baa8-9641bb55529a",
   "metadata": {},
   "outputs": [
    {
     "name": "stdout",
     "output_type": "stream",
     "text": [
      "El porcentaje de participacion por Region es el siguiente (con % mayor a 0,5%):\n",
      "Ciudad Autónoma de Buenos Aires  -  51.71%\n",
      "Provincia de Buenos Aires  -  10.1%\n",
      "GBA  -  9.2%\n",
      "Córdoba  -  7.8%\n",
      "Santa Fe  -  5.82%\n",
      "Mendoza  -  2.18%\n",
      "Montevideo  -  1.7%\n",
      "Entre Ríos  -  0.96%\n",
      "Río Negro  -  0.76%\n",
      "Tucumán  -  0.76%\n",
      "Neuquén  -  0.68%\n",
      "Misiones  -  0.61%\n",
      "Santiago  -  0.58%\n",
      "Chaco  -  0.57%\n"
     ]
    }
   ],
   "source": [
    "#creo diccionario con el porcentaje de participacion por region como valores\n",
    "dict_participacion_regiones = {}\n",
    "total_respuestas = sum(sorted_dict_regiones.values()) # el total de respuestas es la suma de los valores del diccionario ordenado\n",
    "\n",
    "print(\"El porcentaje de participacion por Region es el siguiente (con % mayor a 0,5%):\")\n",
    "for region in sorted_dict_regiones:\n",
    "    participacion = round(((sorted_dict_regiones[region]/total_respuestas)*100),2) # calculo el % de participacion como la cantidad de cada region sobre el total de respuestas\n",
    "    participacion_str = str(participacion)+\"%\"\n",
    "    dict_participacion_regiones[region] = participacion_str\n",
    "    if participacion >= 0.5: #para limitar la cantidad de respuestas a porcentaje mayor a 0,5%\n",
    "        print(region, \" - \", participacion_str)"
   ]
  },
  {
   "cell_type": "markdown",
   "id": "c54ea6d9-29aa-4788-9abe-fe6fdb5ba797",
   "metadata": {},
   "source": [
    "3. Printear porcentaje de participación por tipo de rol, ordenado de mayor a menor. Ej:  \n",
    "`- Developer - 39.11 %`"
   ]
  },
  {
   "cell_type": "code",
   "execution_count": 184,
   "id": "1f218e41-da61-408f-96dc-20b1b1bdbd46",
   "metadata": {},
   "outputs": [],
   "source": [
    "list_rol_developer = []\n",
    "list_rol_manager = []\n",
    "list_rol_engineer = []\n",
    "list_rol_analyst = []\n",
    "list_rol_qa = []\n",
    "list_rol_leader = []\n",
    "list_rol_architec = []\n",
    "list_rol_ux = []\n",
    "list_rol_others = []\n",
    "\n",
    "\n",
    "\n",
    "for case in dict_cases_list_ALL:\n",
    "    rol = case[\"Tipo de rol\"].lower()\n",
    "    if \"engineer\" in rol:\n",
    "        list_rol_engineer.append(rol)\n",
    "    elif \"ingeniero\" in rol:\n",
    "        list_rol_engineer.append(rol)\n",
    "    if \"dev\" in rol:\n",
    "        list_rol_developer.append(rol)\n",
    "    if  \"manager\" in rol:\n",
    "        list_rol_manager.append(rol)\n",
    "    elif \"jefe\" in rol:\n",
    "        list_rol_manager.append(rol)\n",
    "    elif \"gerente\" in rol:\n",
    "        list_rol_manager.append(rol)\n",
    "    if \"analyst\" in rol:\n",
    "        list_rol_analyst.append(rol)\n",
    "    elif \"analist\" in rol:\n",
    "        list_rol_analyst.append(rol)\n",
    "    elif \"analisis\" in rol:\n",
    "        list_rol_analyst.append(rol)\n",
    "    if \"qa\" in rol:\n",
    "        list_rol_qa.append(rol)\n",
    "    if \"architec\" in rol:\n",
    "        list_rol_architec.append(rol)\n",
    "    if \"ux\" in rol:\n",
    "        list_rol_ux.append(rol)\n",
    "    elif \"ui\" in rol:\n",
    "        list_rol_ux.append(rol)\n",
    "    if \"leader\" in rol:\n",
    "        list_rol_leader.append(rol)\n",
    "\n"
   ]
  },
  {
   "cell_type": "code",
   "execution_count": 185,
   "id": "c3030192-7127-4a2c-b3b9-9c27b393900e",
   "metadata": {},
   "outputs": [],
   "source": [
    "list_all_roles = list_rol_developer +list_rol_manager +list_rol_engineer+ list_rol_analyst +list_rol_qa+list_rol_leader+ list_rol_ux\n",
    "\n",
    "\n",
    "for case in dict_cases_list_ALL:\n",
    "    rol = case[\"Tipo de rol\"].lower()\n",
    "    if rol not in list_all_roles:\n",
    "        list_rol_others.append(rol)\n",
    "\n",
    "dict_roles = {\n",
    "    \"Engineer\": len(list_rol_engineer),\n",
    "    \"Developer\": len(list_rol_developer),\n",
    "    \"Manager\": len(list_rol_manager),\n",
    "    \"Analyst\": len(list_rol_analyst),\n",
    "    \"QA\": len(list_rol_qa),\n",
    "    \"Leader\": len(list_rol_leader),\n",
    "    \"UX UI\": len(list_rol_ux),\n",
    "    \"Others\": len(list_rol_others)}"
   ]
  },
  {
   "cell_type": "code",
   "execution_count": 186,
   "id": "caa6681b-e564-431b-b367-5a4fd6e23a17",
   "metadata": {},
   "outputs": [
    {
     "name": "stdout",
     "output_type": "stream",
     "text": [
      "Porcentaje de participacion, sobre el total de respuestas, para cada Tipo de Rol (de mayor a menor):\n",
      "Developer  -  52.18%\n",
      "Others  -  18.23%\n",
      "Manager  -  8.97%\n",
      "Leader  -  6.29%\n",
      "Analyst  -  4.86%\n",
      "QA  -  4.41%\n",
      "UX UI  -  2.88%\n",
      "Engineer  -  2.31%\n"
     ]
    }
   ],
   "source": [
    "sorted_dict_roles = {}\n",
    "\n",
    "sorted_roles_keys = sorted(dict_roles,key=dict_roles.get,reverse = True)\n",
    "for rol in sorted_roles_keys:\n",
    "    sorted_dict_roles[rol] = dict_roles[rol]\n",
    "print(\"Porcentaje de participacion, sobre el total de respuestas, para cada Tipo de Rol (de mayor a menor):\")\n",
    "for rol in enumerate(sorted_dict_roles):\n",
    "    rol_participacion = round((sorted_dict_roles[rol[1]]/len(dict_cases_list_ALL) * 100),2)\n",
    "    participacion_str = str(rol_participacion)+\"%\"\n",
    "    print(rol[1], \" - \", participacion_str)"
   ]
  },
  {
   "cell_type": "markdown",
   "id": "86afc125-4a66-42de-a238-2aeec44a43d1",
   "metadata": {},
   "source": [
    "4. Printear porcentaje de respuesta para las preguntas: \n",
    "* ¿Contribuís a proyectos Open Source?\n",
    "* ¿Programás por hobbie?"
   ]
  },
  {
   "cell_type": "code",
   "execution_count": 187,
   "id": "3bfff0b1-9f7b-4d54-8c72-01eea9956284",
   "metadata": {},
   "outputs": [],
   "source": [
    "#genero una lista que guarde los casos con respuesta afirmativa y otra con los casos con respuesta negativa para la key asociada a la pregunta \"Colabora en Open Source\"\n",
    "list_respuestas_si = []\n",
    "list_respuestas_no = []\n",
    "\n",
    "for case in dict_cases_list_ALL:\n",
    "    respuesta = case[\"Colabora en Open Source\"]\n",
    "    if respuesta == \"No\":\n",
    "        list_respuestas_no.append(respuesta)\n",
    "    if respuesta == \"Sí\":\n",
    "        list_respuestas_si.append(respuesta)\n"
   ]
  },
  {
   "cell_type": "code",
   "execution_count": 188,
   "id": "1c614a7e-0037-468f-9404-0326e9401265",
   "metadata": {},
   "outputs": [],
   "source": [
    "# calculo la cantidad de respuestas afirmativas como el len de la lista generada y lo guardo en una variable (lo mismo para respuestas negativas)\n",
    "respuestas_si_qty = len(list_respuestas_si)\n",
    "\n",
    "respuestas_no_qty = len(list_respuestas_no)\n",
    "\n",
    "total_respuestas_open_source = respuestas_si_qty + respuestas_no_qty\n"
   ]
  },
  {
   "cell_type": "code",
   "execution_count": 189,
   "id": "4ae7a61d-d586-4a09-a915-fde81da8613f",
   "metadata": {},
   "outputs": [
    {
     "name": "stdout",
     "output_type": "stream",
     "text": [
      "El porcentaje de personas que colaboran en proyectos Open Source, sobre el total de personas que respondieron a la pregunta, es 14.97%\n"
     ]
    }
   ],
   "source": [
    "porcentaje_respuestas_si = round((respuestas_si_qty/total_respuestas_open_source)* 100,2)\n",
    "print(\"El porcentaje de personas que colaboran en proyectos Open Source, sobre el total de personas que respondieron a la pregunta, es \" + str(porcentaje_respuestas_si) + \"%\")"
   ]
  },
  {
   "cell_type": "code",
   "execution_count": 190,
   "id": "3fdb77aa-6a95-472a-8a04-8f26c60a224f",
   "metadata": {},
   "outputs": [],
   "source": [
    "#genero una lista que guarde los casos con respuesta afirmativa y otra con los casos con respuesta negativa para la key asociada a la pregunta \"Programa por hobbie\"\n",
    "list_respuestas_si_hobbie = []\n",
    "list_respuestas_no_hobbie = []\n",
    "\n",
    "for case in dict_cases_list_ALL:\n",
    "    respuesta = case[\"Programa por hobbie\"]\n",
    "    if respuesta == \"No\":\n",
    "        list_respuestas_no_hobbie.append(respuesta)\n",
    "    if respuesta == \"Sí\":\n",
    "        list_respuestas_si_hobbie.append(respuesta)\n",
    "\n"
   ]
  },
  {
   "cell_type": "code",
   "execution_count": 191,
   "id": "f49bd971-a041-4c5d-ad14-490a0aad2ee3",
   "metadata": {},
   "outputs": [],
   "source": [
    "# calculo la cantidad de respuestas afirmativas como el len de la lista generada y lo guardo en una variable (lo mismo para respuestas negativas)\n",
    "respuestas_si_hobbie_qty = len(list_respuestas_si_hobbie)\n",
    "\n",
    "respuestas_no_hobbie_qty = len(list_respuestas_no_hobbie)\n",
    "\n",
    "total_respuestas_hobbie = respuestas_si_hobbie_qty + respuestas_no_hobbie_qty"
   ]
  },
  {
   "cell_type": "code",
   "execution_count": 192,
   "id": "aff43ee7-da69-415d-afbc-e9d267eefdfb",
   "metadata": {},
   "outputs": [
    {
     "name": "stdout",
     "output_type": "stream",
     "text": [
      "El porcentaje de personas que programan por Hobbie, sobre el total de personas que respondieron a la pregunta, es 56.06%\n"
     ]
    }
   ],
   "source": [
    "porcentaje_respuestas_si_hobbie = round((respuestas_si_hobbie_qty/total_respuestas_hobbie)*100,2)\n",
    "print(\"El porcentaje de personas que programan por Hobbie, sobre el total de personas que respondieron a la pregunta, es \" + str(porcentaje_respuestas_si_hobbie) + \"%\")"
   ]
  },
  {
   "cell_type": "markdown",
   "id": "d34da47a-01d6-4b6f-a8cd-0626de035376",
   "metadata": {},
   "source": [
    "5. Printear porcentaje por seniority según años de experiencia, el mapeo es:\n",
    "```\n",
    "Junior: de 0 hasta 2 años.\n",
    "Semi-Senior: de 2 años inclusive hasta 5 años.\n",
    "Senior: desde 5 años inclusive.\n",
    "``` "
   ]
  },
  {
   "cell_type": "code",
   "execution_count": 193,
   "id": "60d87f7c-b62b-4820-8d1d-2d1beee5fa57",
   "metadata": {},
   "outputs": [
    {
     "name": "stdout",
     "output_type": "stream",
     "text": [
      "El porcentaje de participacion por seniority sobre el total de respuestas es el siguiente: \n",
      " -Juniors (menos de 2 años de experiencia): 16.04 % \n",
      " -Semi Seniors(de 2 a 5 años de experiencia): 26.1 % \n",
      " -Seniors(5 o mas años de experiencia): 57.86 %\n"
     ]
    }
   ],
   "source": [
    "#genero listas para cada seniority\n",
    "list_seniority_junior = []\n",
    "list_seniority_semi_sr = []\n",
    "list_seniority_senior = []\n",
    "\n",
    "# guardo la cantidad de respuestas asociadas a la key \"Años de experiencia\" en las distintas listas segun el valor de años de experiencia\n",
    "for case in dict_cases_list_ALL:\n",
    "    seniority = float(case[\"Años de experiencia\"])\n",
    "    if seniority < 2:\n",
    "        list_seniority_junior.append(seniority)\n",
    "    if 2 >= seniority < 5 :\n",
    "        list_seniority_semi_sr.append(seniority)\n",
    "    if seniority >= 5:\n",
    "        list_seniority_senior.append(seniority)\n",
    "\n",
    "#calculo la cantidad de respuestas para cada seniority como la longitud de cada lista\n",
    "\n",
    "seniority_junior_qty = len(list_seniority_junior)\n",
    "\n",
    "seniority_semi_sr_qty = len(list_seniority_semi_sr)\n",
    "\n",
    "seniority_senior_qty = len(list_seniority_senior)\n",
    "\n",
    "\n",
    "total_respuestas_seniority = seniority_junior_qty +seniority_semi_sr_qty +seniority_senior_qty\n",
    "\n",
    "porcentaje_juniors = round((seniority_junior_qty/total_respuestas_seniority)*100,2)\n",
    "\n",
    "porcentaje_semi_sr = round((seniority_semi_sr_qty/total_respuestas_seniority)*100,2)\n",
    "\n",
    "porcentaje_seniors = round((seniority_senior_qty/total_respuestas_seniority)*100,2)\n",
    "\n",
    "\n",
    "\n",
    "print(\"El porcentaje de participacion por seniority sobre el total de respuestas es el siguiente:\",\"\\n\",\"-Juniors (menos de 2 años de experiencia):\",porcentaje_juniors,\"%\",\"\\n\",\n",
    "      \"-Semi Seniors(de 2 a 5 años de experiencia):\",porcentaje_semi_sr,\"%\",\"\\n\",\"-Seniors(5 o mas años de experiencia):\",porcentaje_seniors,'%')\n"
   ]
  },
  {
   "cell_type": "markdown",
   "id": "7a182336-14cd-4e10-82d5-920779453a87",
   "metadata": {},
   "source": [
    "6. Printear porcentaje de personas encuestadas por años en la compañía actual y por años en el puesto actual."
   ]
  },
  {
   "cell_type": "code",
   "execution_count": 194,
   "id": "e7cb4e75-62ab-4c32-b210-a05f6944eabf",
   "metadata": {},
   "outputs": [
    {
     "name": "stdout",
     "output_type": "stream",
     "text": [
      "El porcentaje de participacion segun Antigüedad en la empresa actual es el siguiente: \n",
      " -Hasta 2 años de antigüedad: 17.74 % \n",
      " -2 a 5 años de antigüedad: 22.52 % \n",
      " -5 a 10 años de antigüedad: 28.28 % \n",
      " -Mas de 10 años de antigüedad: 31.45 %\n"
     ]
    }
   ],
   "source": [
    "#genero listas para separar respuestas en rangos de antiguedad\n",
    "list_antiguedad_menor_2_años = []\n",
    "list_antiguedad_menor_5_años = []\n",
    "list_antiguedad_menor_10_años = []\n",
    "list_antiguedad_mayor_10_años = []\n",
    "\n",
    "# guardo la cantidad de respuestas asociadas a la key \"Antiguedad en la empresa actual\" en las distintas listas segun el valor del rango definido\n",
    "for case in dict_cases_list_ALL:\n",
    "    antiguedad = float(case['Antiguedad en la empresa actual'])\n",
    "    if antiguedad < 2:\n",
    "        list_antiguedad_menor_2_años.append(antiguedad)\n",
    "    if 2 >= antiguedad < 5 :\n",
    "        list_antiguedad_menor_5_años.append(antiguedad)\n",
    "    if 5 >= antiguedad < 10:\n",
    "        list_antiguedad_menor_10_años.append(antiguedad)\n",
    "    if 10 >= antiguedad <=30: # excluyo respuestas outliers (considero outlier las respuestas con valor mayor a 30 años de antiguedad)\n",
    "        list_antiguedad_mayor_10_años.append(antiguedad)\n",
    "\n",
    "#calculo la cantidad de respuestas para cada franja como la longitud de cada lista\n",
    "\n",
    "antiguedad_2_qty = len(list_antiguedad_menor_2_años)\n",
    "\n",
    "antiguedad_5_qty = len(list_antiguedad_menor_5_años)\n",
    "\n",
    "antiguedad_10_qty = len(list_antiguedad_menor_10_años)\n",
    "\n",
    "antiguedad_mas_10_qty =len(list_antiguedad_mayor_10_años)\n",
    "\n",
    "\n",
    "total_respuestas_antiguedad = antiguedad_2_qty +antiguedad_5_qty +antiguedad_10_qty + antiguedad_mas_10_qty\n",
    "\n",
    "porcentaje_2_años = round((antiguedad_2_qty/total_respuestas_antiguedad)*100,2)\n",
    "\n",
    "porcentaje_5_años = round((antiguedad_5_qty/total_respuestas_antiguedad)*100,2)\n",
    "\n",
    "porcentaje_10_años = round((antiguedad_10_qty/total_respuestas_antiguedad)*100,2)\n",
    "\n",
    "porcentaje_mas_10_años = round((antiguedad_mas_10_qty/total_respuestas_antiguedad)*100,2)\n",
    "\n",
    "\n",
    "\n",
    "print(\"El porcentaje de participacion segun Antigüedad en la empresa actual es el siguiente:\",\"\\n\",\"-Hasta 2 años de antigüedad:\",porcentaje_2_años,\"%\",\"\\n\",\n",
    "      \"-2 a 5 años de antigüedad:\",porcentaje_5_años,\"%\",\"\\n\",\"-5 a 10 años de antigüedad:\",porcentaje_10_años,'%',\"\\n\",\"-Mas de 10 años de antigüedad:\",porcentaje_mas_10_años,'%')\n"
   ]
  },
  {
   "cell_type": "code",
   "execution_count": 195,
   "id": "da5371bd-9cba-4220-ba1a-3f783bf55684",
   "metadata": {},
   "outputs": [
    {
     "name": "stdout",
     "output_type": "stream",
     "text": [
      "El porcentaje de participacion segun Antigüedad en el puesto actual es el siguiente: \n",
      " -Hasta 2 años de antigüedad: 16.67 % \n",
      " -2 a 5 años de antigüedad: 22.14 % \n",
      " -5 a 10 años de antigüedad: 29.1 % \n",
      " -Mas de 10 años de antigüedad: 32.08 %\n"
     ]
    }
   ],
   "source": [
    "#genero listas para separar respuestas en rangos de antiguedad\n",
    "list_exp_menor_2_años = []\n",
    "list_exp_menor_5_años = []\n",
    "list_exp_menor_10_años = []\n",
    "list_exp_mayor_10_años = []\n",
    "\n",
    "# guardo la cantidad de respuestas asociadas a la key \"Antiguedad en la empresa actual\" en las distintas listas segun el valor del rango definido\n",
    "for case in dict_cases_list_ALL:\n",
    "    experiencia = float(case['Antiguedad en el puesto actual'])\n",
    "    if experiencia < 2:\n",
    "        list_exp_menor_2_años.append(experiencia)\n",
    "    if 2 >= experiencia < 5 :\n",
    "        list_exp_menor_5_años.append(experiencia)\n",
    "    if 5 >= experiencia < 10:\n",
    "        list_exp_menor_10_años.append(experiencia)\n",
    "    if 10 >= experiencia <=30: # excluyo respuestas outliers (considero outlier las respuestas con valor mayor a 30 años de antiguedad)\n",
    "        list_exp_mayor_10_años.append(experiencia)\n",
    "\n",
    "#calculo la cantidad de respuestas para cada franja como la longitud de cada lista\n",
    "\n",
    "exp_2_qty = len(list_exp_menor_2_años)\n",
    "\n",
    "exp_5_qty = len(list_exp_menor_5_años)\n",
    "\n",
    "exp_10_qty = len(list_exp_menor_10_años)\n",
    "\n",
    "exp_mas_10_qty =len(list_exp_mayor_10_años)\n",
    "\n",
    "\n",
    "total_respuestas_exp_puesto = exp_2_qty+exp_5_qty+exp_10_qty+exp_mas_10_qty\n",
    "\n",
    "porcentaje_2_exp = round((exp_2_qty/total_respuestas_exp_puesto)*100,2)\n",
    "\n",
    "porcentaje_5_exp = round((exp_5_qty/total_respuestas_exp_puesto)*100,2)\n",
    "\n",
    "porcentaje_10_exp = round((exp_10_qty/total_respuestas_exp_puesto)*100,2)\n",
    "\n",
    "porcentaje_mas_10_exp = round((exp_mas_10_qty/total_respuestas_exp_puesto)*100,2)\n",
    "\n",
    "\n",
    "\n",
    "print(\"El porcentaje de participacion segun Antigüedad en el puesto actual es el siguiente:\",\"\\n\",\"-Hasta 2 años de antigüedad:\",porcentaje_2_exp,\"%\",\"\\n\",\n",
    "      \"-2 a 5 años de antigüedad:\",porcentaje_5_exp,\"%\",\"\\n\",\"-5 a 10 años de antigüedad:\",porcentaje_10_exp,'%',\"\\n\",\"-Mas de 10 años de antigüedad:\",porcentaje_mas_10_exp,'%')\n"
   ]
  },
  {
   "cell_type": "markdown",
   "id": "0c7df29f-b36c-424b-b5a7-0c37e0ccfe99",
   "metadata": {},
   "source": [
    "7. Printear porcentajes de nivel de educación formal y estado, es decir: % educación secundaria, terciaria, universitaria, postgrado, doctorado, postdoctorado, completo, incompleto y en curso para cada uno."
   ]
  },
  {
   "cell_type": "code",
   "execution_count": 196,
   "id": "10c55cb4-2022-4b09-b6d5-807807d1a114",
   "metadata": {},
   "outputs": [],
   "source": [
    "list_niveles_educacion = []\n",
    "\n",
    "for case in dict_cases_list_ALL:\n",
    "    nivel = case['Nivel de educacion']\n",
    "    if nivel != '': \n",
    "        if nivel not in list_niveles_educacion:\n",
    "            list_niveles_educacion.append(nivel)\n"
   ]
  },
  {
   "cell_type": "code",
   "execution_count": 197,
   "id": "765a9c41-c45e-452d-9555-94d56faf5b25",
   "metadata": {},
   "outputs": [
    {
     "name": "stdout",
     "output_type": "stream",
     "text": [
      "El porcentaje de participacion por Nivel de Estudio es el siguiente :\n"
     ]
    },
    {
     "data": {
      "text/plain": [
       "{'Terciario': '17.3%',\n",
       " 'Universitario': '68.5%',\n",
       " 'Secundario': '6.39%',\n",
       " 'Posgrado': '6.94%',\n",
       " 'Doctorado': '0.72%',\n",
       " 'Posdoctorado': '0.12%',\n",
       " 'Primario': '0.03%'}"
      ]
     },
     "execution_count": 197,
     "metadata": {},
     "output_type": "execute_result"
    }
   ],
   "source": [
    "#genero un diccionario de valores nulos con las regiones de la lista como keys\n",
    "dict_niveles_educacion = {}\n",
    "\n",
    "for nivel in list_niveles_educacion:\n",
    "    dict_niveles_educacion[nivel] = 0\n",
    "\n",
    "for case in dict_cases_list_ALL:\n",
    "    nivel = case['Nivel de educacion']\n",
    "    if nivel != '':\n",
    "        dict_niveles_educacion[nivel] += 1\n",
    "        \n",
    "#creo diccionario con el porcentaje de participacion por region como valores\n",
    "dict_per_niveles_edu = {}\n",
    "total_respuestas = sum(dict_niveles_educacion.values()) # el total de respuestas es la suma de los valores del diccionario ordenado\n",
    "\n",
    "for nivel in dict_niveles_educacion:\n",
    "    participacion = round(((dict_niveles_educacion[nivel]/total_respuestas)*100),2) # calculo el % de participacion como la cantidad de cada region sobre el total de respuestas\n",
    "    participacion_str = str(participacion)+\"%\"\n",
    "    dict_per_niveles_edu[nivel] = participacion_str\n",
    "    \n",
    "print(\"El porcentaje de participacion por Nivel de Estudio es el siguiente :\")\n",
    "dict_per_niveles_edu"
   ]
  },
  {
   "cell_type": "code",
   "execution_count": 198,
   "id": "03d4193c-2a5b-4007-b4ee-111d16f3df7e",
   "metadata": {},
   "outputs": [],
   "source": [
    "list_nivel_universitario = []\n",
    "list_nivel_posgrado = []\n",
    "list_nivel_doctorado = []\n",
    "list_nivel_posdoc = []\n",
    "list_nivel_terciario = []\n",
    "list_nivel_secundario = []\n",
    "list_nivel_primario = []\n",
    "\n",
    "\n",
    "for case in dict_cases_list_ALL:\n",
    "    nivel = case['Nivel de educacion']\n",
    "    estado_nivel = case['Estado del nivel']\n",
    "    if  'Universitario' in nivel:\n",
    "        list_nivel_universitario.append(estado_nivel)\n",
    "    if  'Posgrado' in nivel:\n",
    "        list_nivel_posgrado.append(estado_nivel)\n",
    "    if  'Doctorado' in nivel:\n",
    "        list_nivel_doctorado.append(estado_nivel)\n",
    "    if  'Posdoctorado' in nivel:\n",
    "        list_nivel_posdoc.append(estado_nivel)\n",
    "    if  'Secundario' in nivel:\n",
    "        list_nivel_secundario.append(estado_nivel)\n",
    "    if  'Primario' in nivel:\n",
    "        list_nivel_primario.append(estado_nivel)\n",
    "    if  'Terciario' in nivel:\n",
    "        list_nivel_terciario.append(estado_nivel)\n"
   ]
  },
  {
   "cell_type": "code",
   "execution_count": 199,
   "id": "08668822-0463-4273-bd45-f110afb499e8",
   "metadata": {},
   "outputs": [],
   "source": [
    "def contar_palabras_lista(lista_niveles):\n",
    "    frecuencia_palabra = [str(round((lista_niveles.count(p)/len(lista_niveles))*100,2))+\"%\" for p in lista_niveles]\n",
    "    return dict(list(zip(lista_niveles,frecuencia_palabra)))\n",
    "\n",
    "\n",
    "\n",
    "nivel_universitario = contar_palabras_lista(list_nivel_universitario)\n",
    "nivel_posgrado = contar_palabras_lista(list_nivel_posgrado)\n",
    "nivel_doctorado = contar_palabras_lista(list_nivel_doctorado)\n",
    "nivel_posdoc = contar_palabras_lista(list_nivel_posdoc)\n",
    "nivel_terciario = contar_palabras_lista(list_nivel_terciario)\n",
    "nivel_secundario = contar_palabras_lista(list_nivel_secundario)\n",
    "nivel_primario = contar_palabras_lista(list_nivel_primario)"
   ]
  },
  {
   "cell_type": "code",
   "execution_count": 200,
   "id": "f56498df-2265-46a7-a502-a9364fbe87ab",
   "metadata": {},
   "outputs": [
    {
     "name": "stdout",
     "output_type": "stream",
     "text": [
      "Porcentaje de estado para cada nivel de educacion:\n",
      "Primario : {'Incompleto': '100.0%'}\n",
      "Secunadrio:  {'Completado': '90.54%', 'Incompleto': '7.21%', 'En curso': '2.25%'}\n",
      "Terciario:  {'Completado': '51.08%', 'En curso': '27.45%', 'Incompleto': '21.46%'}\n",
      "Universitario:  {'Completado': '36.78%', 'Incompleto': '26.06%', 'En curso': '37.16%'}\n",
      "Posgrado :  {'Incompleto': '10.79%', 'Completado': '65.56%', 'En curso': '23.65%'}\n",
      "Doctorado :  {'Completado': '52.0%', 'En curso': '40.0%', 'Incompleto': '8.0%'}\n",
      "Posdoctorado  {'Completado': '50.0%', 'En curso': '25.0%', 'Incompleto': '25.0%'}\n"
     ]
    }
   ],
   "source": [
    "print(\"Porcentaje de estado para cada nivel de educacion:\" + \"\\n\" +\n",
    "      \"Primario :\" ,str(nivel_primario) + \"\\n\" +\n",
    "      \"Secunadrio: \" , str(nivel_secundario) + \"\\n\" +\n",
    "      \"Terciario: \", str(nivel_terciario) + \"\\n\" +\n",
    "      \"Universitario: \" ,str(nivel_universitario) + \"\\n\" +\n",
    "      \"Posgrado : \", str(nivel_posgrado) + \"\\n\" +\n",
    "      \"Doctorado : \" ,str(nivel_doctorado) + \"\\n\" +\n",
    "      \"Posdoctorado \" ,str(nivel_posdoc))"
   ]
  },
  {
   "cell_type": "markdown",
   "id": "51786345-dfc6-4c3a-98d9-5e57bd1ce48b",
   "metadata": {},
   "source": [
    "8. Formatear las carreras universitarias:\n",
    "- Nombres capitalizados\n",
    "- Reemplazar vocales con tilde por vocales sin tilde.\n",
    "- Reemplazar `ñ` por `n`\n",
    "- *lic*, *lic.* por Licenciatura\n",
    "- *tec*, *tec.* por Tecnucatura\n",
    "* *cs, *cs.* por Ciencias\n",
    "* *ed, ed.* por Educación\n",
    "* Transformaciones que se consideren necesarias\n",
    "\n",
    "Printear porcentaje según carrera"
   ]
  },
  {
   "cell_type": "code",
   "execution_count": 201,
   "id": "57336a2e-5dec-4c81-a3d5-89edbbe69da8",
   "metadata": {},
   "outputs": [
    {
     "name": "stdout",
     "output_type": "stream",
     "text": [
      "Porcentaje de participacion, sobre el total de respuestas, para cada Carrera (de mayor a menor):\n",
      "Ingenieria en sistemas de informacion - 9.14%\n",
      "Ingenieria en informatica - 5.46%\n",
      "Analista de sistemas - 4.18%\n",
      "Licenciatura en ciencias de la computacion - 2.72%\n",
      "Licenciatura en sistemas de informacion - 2.72%\n",
      "Licenciatura en informatica - 2.07%\n",
      "Tecnicatura en programacion - 1.63%\n",
      "Ingenieria electronica - 1.44%\n",
      "Ingenieria en computacion - 1.35%\n",
      "Diseno grafico - 1.19%\n",
      "Tecnicatura superior en programacion - 1.14%\n",
      "Licenciatura en administracion - 0.83%\n",
      "Tecnicatura en informatica - 0.76%\n",
      "Ingenieria industrial - 0.57%\n",
      "Licenciatura en analisis de sistemas - 0.57%\n",
      "Analista programador - 0.54%\n",
      "Ingenieria en software - 0.51%\n"
     ]
    }
   ],
   "source": [
    "def normalize(c):\n",
    "    replacements = ((\"á\", \"a\"),\n",
    "    (\"é\", \"e\"),\n",
    "    (\"í\", \"i\"),\n",
    "    (\"ó\", \"o\"),\n",
    "    (\"ú\", \"u\"),\n",
    "    (\"ñ\", \"n\"),\n",
    "    (\"Lic \", \"Licenciatura\"),\n",
    "    (\"Tec \", \"Tecnicatura\"),\n",
    "    (\"Cs \", \"Ciencias\"),\n",
    "    (\"Ed \", \"Educacion\"),\n",
    "    (\"Ing \", \"Ingenieria\"),\n",
    "    (\"Lic.\", \"Licenciatura\"),\n",
    "    (\"Tec.\", \"Tecnicatura\"),\n",
    "    (\"Cs.\", \"Ciencias\"),\n",
    "    (\"Ed.\", \"Educacion\"),\n",
    "    (\"Ing.\", \"Ingenieria\"))\n",
    "    for a, b in replacements:\n",
    "        c = c.replace(a, b).replace(a.upper(),b.upper())\n",
    "        c = str.capitalize(c)\n",
    "    return c\n",
    "\n",
    "\n",
    "list_carrera = []\n",
    "\n",
    "list_carrera_norm = []\n",
    "for case in dict_cases_list_ALL:\n",
    "    carrera = case[\"Carrera Universitaria\"]\n",
    "    if carrera != '':\n",
    "        list_carrera.append(carrera)\n",
    "for carrera in list_carrera:\n",
    "    carrera_norm = normalize(carrera)\n",
    "    list_carrera_norm.append(carrera_norm)\n",
    "\n",
    "    \n",
    "list_keys_carrera = []\n",
    "\n",
    "for carrera in list_carrera_norm:\n",
    "    if carrera not in list_keys_carrera:\n",
    "        list_keys_carrera.append(carrera)\n",
    "\n",
    "dic_carreras = {}\n",
    "\n",
    "for carrera in list_keys_carrera:\n",
    "    dic_carreras[carrera] = 0\n",
    "for carrera in list_carrera_norm:\n",
    "    dic_carreras[carrera] +=1\n",
    "\n",
    "sorted_dic_carreras = {}\n",
    "\n",
    "sorted_carreras_keys = sorted(dic_carreras,key=dic_carreras.get,reverse = True)\n",
    "for carrera in sorted_carreras_keys:\n",
    "    sorted_dic_carreras[carrera] = dic_carreras[carrera]\n",
    "\n",
    "print(\"Porcentaje de participacion, sobre el total de respuestas, para cada Carrera (de mayor a menor):\")\n",
    "for carrera in enumerate(sorted_dic_carreras):\n",
    "    carrera_value = round((sorted_dic_carreras[carrera[1]]/len(dict_cases_list_ALL) * 100),2)\n",
    "    carrera_str = str(carrera_value)+\"%\"\n",
    "    if carrera_value >= 0.5: \n",
    "        print(carrera[1] + \" - \" + carrera_str)"
   ]
  },
  {
   "cell_type": "markdown",
   "id": "ea803c6d-6a61-4d98-be72-116ae2855e70",
   "metadata": {},
   "source": [
    "9. Printear porcentaje de respuesta a las preguntas:\n",
    "- ¿Realizaste cursos de especialización?\n",
    "- Si realizaste, ¿Quién pagó por los cursos de especialización?"
   ]
  },
  {
   "cell_type": "code",
   "execution_count": 202,
   "id": "99f82b25-fa8a-42b4-8349-19035ff67fce",
   "metadata": {},
   "outputs": [
    {
     "name": "stdout",
     "output_type": "stream",
     "text": [
      "El porcentaje de personas que realizaron cursos de especialización, sobre el total de respuestas a la pregunta, es: \n",
      "82.67%\n",
      "Del total de personas que realizaron cursos de especialización, el 58.58% lo pagó particular y el 24.09% lo pagó el empleador.\n"
     ]
    }
   ],
   "source": [
    "#genero una lista para ver el valor que toman las respuestas \n",
    "# list_keys_esp = []\n",
    "# for case in dict_cases_list_ALL:\n",
    "#     case_esp = case[\"Cursos de especialización\"]\n",
    "#     if case_esp not in list_keys_esp:\n",
    "#         list_keys_esp.append(case_esp)\n",
    "\n",
    "\n",
    "list_result_esp_particular = []\n",
    "\n",
    "list_result_esp_empleador = []\n",
    "\n",
    "list_result_esp_no = []\n",
    "\n",
    "for case in dict_cases_list_ALL:\n",
    "    case_esp = case[\"Cursos de especializacion\"]\n",
    "    if case_esp == \"No\":\n",
    "        list_result_esp_no.append(case_esp)\n",
    "    if \"particular\" in case_esp:\n",
    "        list_result_esp_particular.append(case_esp)\n",
    "    if  \"empleador\" in case_esp:\n",
    "        list_result_esp_empleador.append(case_esp)\n",
    "        \n",
    "\n",
    "respuestas_particular_qty = len(list_result_esp_particular)\n",
    "\n",
    "respuestas_empleador_qty = len(list_result_esp_empleador)\n",
    "\n",
    "respuestas_si_qty = respuestas_particular_qty + respuestas_empleador_qty\n",
    "\n",
    "respuestas_no_qty = len(list_result_esp_no)\n",
    "\n",
    "total_respuestas_esp = respuestas_particular_qty + respuestas_empleador_qty + respuestas_no_qty\n",
    "\n",
    "participacion_respuestas_si = round((respuestas_si_qty/total_respuestas_esp * 100),2)\n",
    "\n",
    "participacion_respuestas_particular = round((respuestas_particular_qty/total_respuestas_esp * 100),2)\n",
    "\n",
    "participacion_respuestas_empleador = round((respuestas_empleador_qty/total_respuestas_esp * 100),2)\n",
    "\n",
    "\n",
    "print(\"El porcentaje de personas que realizaron cursos de especialización, sobre el total de respuestas a la pregunta, es: \"+ \"\\n\" + str(participacion_respuestas_si) + \"%\" + \"\\n\" +\n",
    "      \"Del total de personas que realizaron cursos de especialización, el \" + str(participacion_respuestas_particular) + \"% lo pagó particular y el \" + str(participacion_respuestas_empleador) + \"% lo pagó el empleador.\")"
   ]
  },
  {
   "cell_type": "markdown",
   "id": "cb7a4544-062a-4429-abea-f0b7293b48f7",
   "metadata": {},
   "source": [
    "10. Printear porcentaje por identidad de género y personas con discapacidad"
   ]
  },
  {
   "cell_type": "code",
   "execution_count": 203,
   "id": "34ae91ef-6760-41e3-8940-bdd3d1e149b2",
   "metadata": {},
   "outputs": [
    {
     "name": "stdout",
     "output_type": "stream",
     "text": [
      "El porcentaje de personas con discapacidad, sobre el total de personas encuestadas, es: \n",
      "2.9%\n"
     ]
    }
   ],
   "source": [
    "list_personas_discapacidad = []\n",
    "\n",
    "list_personas_sin_discapacidad = []\n",
    "\n",
    "\n",
    "for case in dict_cases_list_ALL:\n",
    "    per_disc = case[\"Persona con discapacidad\"].lower()\n",
    "    if \"mental\" in per_disc:\n",
    "        list_personas_discapacidad.append(per_disc)\n",
    "    elif \"visual\" in per_disc:\n",
    "        list_personas_discapacidad.append(per_disc)\n",
    "    elif \"auditiva\" in per_disc:\n",
    "        list_personas_discapacidad.append(per_disc)\n",
    "    elif \"autismo\" in per_disc:\n",
    "        list_personas_discapacidad.append(per_disc)\n",
    "    elif \"autista\" in per_disc:\n",
    "        list_personas_discapacidad.append(per_disc)\n",
    "    elif \"obesidad\" in per_disc:\n",
    "        list_personas_discapacidad.append(per_disc)\n",
    "    elif \"asperger\" in per_disc:\n",
    "        list_personas_discapacidad.append(per_disc)\n",
    "    if per_disc not in list_personas_discapacidad:\n",
    "        list_personas_sin_discapacidad.append(per_disc)\n",
    "\n",
    "\n",
    "total_respuestas = len(list_personas_discapacidad) + len(list_personas_sin_discapacidad)\n",
    "personas_disc_qty = len(list_personas_discapacidad)\n",
    "porcentaje_personas_disc = round((personas_disc_qty/total_respuestas)*100,2)\n",
    "\n",
    "print(\"El porcentaje de personas con discapacidad, sobre el total de personas encuestadas, es: \"+ \"\\n\" + str(porcentaje_personas_disc) + \"%\")"
   ]
  },
  {
   "cell_type": "code",
   "execution_count": 204,
   "id": "ba7318ec-9f57-4d3d-bafd-12a3237a6566",
   "metadata": {},
   "outputs": [],
   "source": [
    "list_trans = []\n",
    "list_masculino = []\n",
    "list_femenino = []\n",
    "list_no_binario = []\n",
    "\n",
    "\n",
    "for case in dict_cases_list_ALL:\n",
    "    genero = normalize(case[\"Identidad de genero\"])\n",
    "    if \"trans\" in genero:\n",
    "        list_trans.append(genero)\n",
    "    elif \"Hombre\" in genero:\n",
    "        list_masculino.append(genero)\n",
    "    elif \"Varon\" in genero:\n",
    "        list_masculino.append(genero)\n",
    "    elif \"Masculino\" in genero:\n",
    "        list_masculino.append(genero)\n",
    "    elif \"Mujer\" in genero:\n",
    "        list_femenino.append(genero)\n",
    "    elif \"Femenino\" in genero:\n",
    "        list_femenino.append(genero)\n",
    "    elif \"No binarie\" in genero:\n",
    "        list_no_binario.append(genero)\n",
    "        \n",
    "        \n",
    "dict_generos = {\n",
    "    \"Masculino\": len(list_masculino),\n",
    "    \"Femenino\": len(list_femenino),\n",
    "    \"Trans\": len(list_trans),\n",
    "    \"No binario\": len(list_no_binario)\n",
    "}      \n",
    " \n"
   ]
  },
  {
   "cell_type": "code",
   "execution_count": 205,
   "id": "4f2af993-522e-49e7-bf03-d9a8a92ec214",
   "metadata": {},
   "outputs": [
    {
     "name": "stdout",
     "output_type": "stream",
     "text": [
      "Porcentaje de participacion para la pregunta sobre Identidad de Genero (se consideraron solo respuestas sobre identidad de genero):\n",
      "Masculino - 81.54%\n",
      "Femenino - 17.37%\n",
      "No binario - 0.77%\n",
      "Trans - 0.32%\n"
     ]
    }
   ],
   "source": [
    "sorted_dict_generos = {}\n",
    "\n",
    "sorted_genero_keys = sorted(dict_generos,key=dict_generos.get,reverse = True)\n",
    "for genero in sorted_genero_keys:\n",
    "    sorted_dict_generos[genero] = dict_generos[genero]\n",
    "\n",
    "print(\"Porcentaje de participacion para la pregunta sobre Identidad de Genero (se consideraron solo respuestas sobre identidad de genero):\")\n",
    "for genero in enumerate(sorted_dict_generos):\n",
    "    participacion = round((sorted_dict_generos[genero[1]]/sum(dict_generos.values()) * 100),2)\n",
    "    participacion_str= str(participacion)+\"%\"\n",
    "    print(genero[1] + \" - \" + participacion_str)"
   ]
  },
  {
   "cell_type": "markdown",
   "id": "acde6b71-2537-421f-8398-2ca8afd34398",
   "metadata": {},
   "source": [
    "11. Salarios: calcular la mediana salarial para cada una de las siguientes categorías:\n",
    "- Salario según región\n",
    "- Salario por rol\n",
    "- Salario por experiencia\n",
    "- Salario por nivel de formación\n",
    "- Salario por carrera\n",
    "- Salario por tecnología\n",
    "- Salario por lenguaje de programación\n",
    "- Salario por género"
   ]
  },
  {
   "cell_type": "markdown",
   "id": "bfd2e756-d810-4738-ab4a-4020aeb9bf4a",
   "metadata": {},
   "source": [
    "12. Printear porcentaje y salario según tipos de contrato ."
   ]
  },
  {
   "cell_type": "code",
   "execution_count": 206,
   "id": "50a8f438-b75d-474d-9117-e03f24bc77bf",
   "metadata": {},
   "outputs": [],
   "source": [
    "\n",
    "list_contratos = []\n",
    "\n",
    "dict_contratos = {}\n",
    "\n",
    "for case in dict_cases_list_ALL:\n",
    "    contrato = case[\"Tipo contrato\"]\n",
    "    if contrato not in list_contratos:\n",
    "        list_contratos.append(contrato)\n",
    "        for contrato in list_contratos:\n",
    "            dict_contratos[contrato] = 0\n",
    "\n",
    "\n",
    "for case in dict_cases_list_ALL:\n",
    "    contrato = case[\"Tipo contrato\"]\n",
    "    dict_contratos[contrato] += 1\n",
    "\n",
    "\n",
    "sorted_keys=sorted(dict_contratos,key=dict_contratos.get,reverse=True)\n",
    "\n",
    "sorted_dict_contratos ={}\n",
    "\n",
    "for key in sorted_keys:\n",
    "    sorted_dict_contratos[key] = dict_contratos[key]\n",
    "\n"
   ]
  },
  {
   "cell_type": "code",
   "execution_count": 207,
   "id": "f8a76504-6c8d-4d16-a042-cb9a33d64cc3",
   "metadata": {},
   "outputs": [
    {
     "name": "stdout",
     "output_type": "stream",
     "text": [
      "Porcentaje de participacion y sueldo promedio,para cada Tipo de Contrato (sobre el total de respuestas):\n",
      "- Full-Time\n",
      " Participación: 82.62%\n",
      " Salario: $1854393.61\n",
      "- Remoto (empresa de otro país)\n",
      " Participación: 7.12%\n",
      " Salario: $333557195.32\n",
      "- Part-Time\n",
      " Participación: 4.37%\n",
      " Salario: $3656405.49\n",
      "- Tercerizado (trabajo a través de consultora o agencia)\n",
      " Participación: 3.04%\n",
      " Salario: $186191.13\n",
      "- Freelance\n",
      " Participación: 2.59%\n",
      " Salario: $258426.44\n",
      "- Participación societaria en una cooperativa\n",
      " Participación: 0.26%\n",
      " Salario: $146507.78\n"
     ]
    }
   ],
   "source": [
    "list_sueldo_full_time = []\n",
    "list_sueldo_remoto = []\n",
    "list_sueldo_part_time = []\n",
    "list_sueldo_tercerizado = []\n",
    "list_sueldo_freelance = []\n",
    "list_sueldo_cooperativa = []\n",
    "\n",
    "\n",
    "for case in dict_cases_list_ALL:\n",
    "    sueldo_str =  case[\"Salario neto\"] \n",
    "    if sueldo_str == '':\n",
    "        sueldo_str= '0'\n",
    "    sueldo_float = float(sueldo_str)# utilice salario neto queda pendiente la conversion\n",
    "    if \"Full-Time\" in case[\"Tipo contrato\"]:\n",
    "        list_sueldo_full_time.append(sueldo_float)\n",
    "    if \"Remoto\" in case[\"Tipo contrato\"]:\n",
    "        list_sueldo_remoto.append(sueldo_float)\n",
    "    if \"Part-Time\" in case[\"Tipo contrato\"]:\n",
    "        list_sueldo_part_time.append(sueldo_float)\n",
    "    if \"Tercerizado\" in case [\"Tipo contrato\"]:\n",
    "        list_sueldo_tercerizado.append(sueldo_float)\n",
    "    if \"Freelance\" in case [\"Tipo contrato\"]:\n",
    "        list_sueldo_freelance.append(sueldo_float)\n",
    "    if \"Participación\" in case [\"Tipo contrato\"]:\n",
    "        list_sueldo_cooperativa.append(sueldo_float)\n",
    "\n",
    "list_all_contratos = list_sueldo_full_time, list_sueldo_part_time, list_sueldo_remoto, list_sueldo_tercerizado, list_sueldo_freelance, list_sueldo_cooperativa\n",
    "\n",
    "list_contratos_avg = []\n",
    "\n",
    "for list_sueldo in list_all_contratos:\n",
    "    list_sueldo_avg = round(sum(list_sueldo)/len(list_sueldo),2)\n",
    "    list_contratos_avg.append(list_sueldo_avg)\n",
    "\n",
    "index = 0\n",
    "print(\"Porcentaje de participacion y sueldo promedio,para cada Tipo de Contrato (sobre el total de respuestas):\")\n",
    "for contrato in enumerate(sorted_dict_contratos):\n",
    "    participacion = round((sorted_dict_contratos[contrato[1]]/len(dict_cases_list_ALL) * 100),2)\n",
    "    print(\"- \" + contrato[1] + (\"\\n\") +\" Participación: \" + str(participacion) + \"%\" + (\"\\n\") +\" Salario: $\" + str(list_tipos_avg[index]))\n",
    "    index += 1"
   ]
  }
 ],
 "metadata": {
  "kernelspec": {
   "display_name": "Python 3",
   "language": "python",
   "name": "python3"
  },
  "language_info": {
   "codemirror_mode": {
    "name": "ipython",
    "version": 3
   },
   "file_extension": ".py",
   "mimetype": "text/x-python",
   "name": "python",
   "nbconvert_exporter": "python",
   "pygments_lexer": "ipython3",
   "version": "3.8.8"
  }
 },
 "nbformat": 4,
 "nbformat_minor": 5
}
