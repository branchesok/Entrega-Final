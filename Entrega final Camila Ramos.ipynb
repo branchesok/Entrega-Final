{
 "cells": [
  {
   "cell_type": "markdown",
   "id": "2a1ea87b-faa9-4b00-a8ee-555cf4694c6e",
   "metadata": {},
   "source": [
    "# Entrega final\n",
    "\n",
    "**(Se requiere el notebook \"Análisis de sueldos\" resuelto)**"
   ]
  },
  {
   "cell_type": "markdown",
   "id": "d4975286-13ed-4cf9-b9a4-d85273f6f253",
   "metadata": {},
   "source": [
    "En base a los resultados obtenidos en *\"Análisis de sueldos\"* confeccionar conclusiones respecto a:\n",
    "\n",
    "- Rol vs sueldos\n",
    "- Nivel de educación alcanzada vs sueldos\n",
    "- Género vs sueldos\n",
    "- Tecnologías populares"
   ]
  },
  {
   "cell_type": "markdown",
   "id": "f4e7bdb4-eafb-49c2-bebc-66881abfc4cd",
   "metadata": {},
   "source": [
    "## Análisis de Sueldos - Conclusiones Generales\n",
    "\n",
    "En base a la diversad de resultados obtenidos del análisis para los resultados las encuestas de Argentina y LATAM se pueden detallan las siguientes conclusiones:\n",
    "\n",
    "- Esta encuensta tiene un gran alcance en la región ya que se recibieron respuestas de 19 paises dentro de LATAM. Si bien dicho alcance es considerable, cabe destacar que la gran mayoria de las respuestas recibidas estan concentradas en regiones de Argentina y Uruguay como puede verse en el grafico 1\n",
    "\n",
    "- De dicho grafico tambien puede concluirse que mas de un 50% de las respuestas corresponden a personas que reciden en la Provincia de Buenos Aires \n",
    "\n",
    "- Del grafico 2 se puede concluir que la gran mayoria de los encuestados trabajan en el area de la tecnologia ya que mas de un 50% pertenecen al rubro de los desarrolladores. Un dato no menor es que el segundo rubro con mayor participacion tipificado como \"Others\" engloba una diversidad de profesiones como Docentes y Arquitectos por lo que se puede inferir que la encuesta demuestra un nivel de penetracion importante para personas con profesiones diversas.\n",
    "\n",
    "\n",
    "- Del analisis de participacion segun Nivel de estudios se puede destactar que la gran mayoria de los encuestados (aproximadamente 60%) cuentan con estudios de nivel Universitario o estan cursando estudios de nivel Terciario (cerca de un 20%)\n",
    "\n",
    "\n",
    "- En cuanto al analisis de participacion por Identidad de Género se dicidio limipar la data obtenida de las respuestas para contabilizar solamente las que correspondian a una Identidad de genero propiamente dicha. De dicho analisis se desprende que mas de un 80% de los encuestados que contestaron a la pregunta y optaron por compartir su Identidad de Genero se identifican con el genero Masculino y por esto tambien se puede inferir, junto con los resultados ilustrados en el grafico 2 ,que dentro del sector tecnologico puede existir una preponderancia del genero Masculino en la region.\n",
    "\n",
    "\n",
    "- En lo referente a inclusion de personas con discapacidad, solo un 2% de los encuestados manifesto presentar algun tipo de discapacidad. Es dificil concluir con estos datos que exista representatividad de personas con discapacidad dentro del sector tecnologico especificamente.\n",
    "\n",
    "- En cuanto al analisis de sueldos aperturado por el tipo de contrato que mantienen los trabajadores encuestados, si bien se pudo determinar que la gran mayoria ( mas de un 80%) mantienen un contrato de tipo Full Time, no pudo determinarse que trabajadores perciben mayor sueldo promedio por falta de correlacion por el tipo de moneda de cada region.\n",
    "\n"
   ]
  },
  {
   "cell_type": "markdown",
   "id": "9dee1c42-e2ff-47fb-b892-9aa835c47e4d",
   "metadata": {},
   "source": [
    "Generar gráficos de barra para mostrar los resultados mencionados anteriormente usando strings, ej:\n",
    "\n",
    "```\n",
    "developer | -----------------------------------------------\n",
    "sysadmin  | ---------------------------\n",
    "QA        | ------------------\n",
    "          | -----------------5%--------10%----------------40%\n",
    "```"
   ]
  },
  {
   "cell_type": "code",
   "execution_count": 45,
   "id": "9f7f6474-d3eb-47bf-8c5b-9ae92bdca096",
   "metadata": {},
   "outputs": [],
   "source": [
    "def repeat_character(character,m,n): \n",
    "    \n",
    "    \n",
    "    \n",
    "    if(m > len(character)): \n",
    "        m = len(character) \n",
    "          \n",
    "    repeat_character = character[:m] \n",
    "    result = \"\" \n",
    "      \n",
    "    for i in range(n): \n",
    "        result = result+repeat_character\n",
    "    return result \n",
    "  \n",
    "\n",
    "\n",
    "\n"
   ]
  },
  {
   "cell_type": "code",
   "execution_count": 60,
   "id": "101aab9a-200a-4237-b5ba-1b20b476a632",
   "metadata": {},
   "outputs": [
    {
     "name": "stdout",
     "output_type": "stream",
     "text": [
      "Grafico 1 - Top 10 de Regiones con mayor participación\n",
      "1 Ciudad Autónoma de BSAS | ---------------------------------------------------- 52 %\n",
      "2 Provincia de BSAS       | ---------- 10 %\n",
      "3 GBA                     | --------- 9 %\n",
      "4 Córdoba                 | -------- 8 %\n",
      "5 Santa Fe                | ------ 6 %\n",
      "6 Mendoza                 | --- 3 %\n",
      "7 Montevideo              | -- 2 %\n",
      "8 Entre Ríos              | - 1 %\n",
      "9 Río Negro               | - < 1 %\n",
      "10 Tucumán                | - < 1 %\n"
     ]
    }
   ],
   "source": [
    "rango_ciudad_ba = 52\n",
    "rango_provincia_ba = 10\n",
    "rango_gba = 9\n",
    "rango_cordoba =8\n",
    "rango_santa_fe =6\n",
    "rango_mendoza= 3\n",
    "rango_montevideo= 2\n",
    "rango_entre_rios= 1\n",
    "rango_rio_negro =1\n",
    "rango_tucuman=1\n",
    "\n",
    "print(\"Grafico 1 - Top 10 de Regiones con mayor participación\")\n",
    "print(\"1 Ciudad Autónoma de BSAS |\" ,repeat_character(\"-\",1,rango_ciudad_ba),rango_ciudad_ba,\"%\")\n",
    "print(\"2 Provincia de BSAS       |\" ,repeat_character(\"-\",1,rango_provincia_ba),rango_provincia_ba,\"%\")\n",
    "print(\"3 GBA                     |\" ,repeat_character(\"-\",1,rango_gba),rango_gba,\"%\")\n",
    "print(\"4 Córdoba                 |\" ,repeat_character(\"-\",1,rango_cordoba),rango_cordoba,\"%\")\n",
    "print(\"5 Santa Fe                |\" ,repeat_character(\"-\",1,rango_santa_fe),rango_santa_fe,\"%\")\n",
    "print(\"6 Mendoza                 |\" ,repeat_character(\"-\",1,rango_mendoza),rango_mendoza,\"%\")\n",
    "print(\"7 Montevideo              |\" ,repeat_character(\"-\",1,rango_montevideo),rango_montevideo,\"%\")\n",
    "print(\"8 Entre Ríos              |\" ,repeat_character(\"-\",1,rango_entre_rios),rango_entre_rios,\"%\")\n",
    "print(\"9 Río Negro               |\" ,repeat_character(\"-\",1,rango_rio_negro),\"<\",rango_rio_negro,\"%\")\n",
    "print(\"10 Tucumán                |\" ,repeat_character(\"-\",1,rango_tucuman),\"<\",rango_tucuman,\"%\")"
   ]
  },
  {
   "cell_type": "code",
   "execution_count": 61,
   "id": "ceca9048-80e9-4121-abaf-22182505ddba",
   "metadata": {},
   "outputs": [
    {
     "name": "stdout",
     "output_type": "stream",
     "text": [
      "Grafico 2 - Roles con mayor % de participación\n",
      "Developer | ---------------------------------------------------- 52 %\n",
      "Others    | ------------------ 18 %\n",
      "Manager   | --------- 9 %\n",
      "Leader    | ------ 6 %\n",
      "Analyst   | ----- 5 %\n",
      "QA        | ---- 4 %\n",
      "UX-UI     | --- 3 %\n",
      "Engineer  | -- 2 %\n"
     ]
    }
   ],
   "source": [
    "rango_developer = 52\n",
    "rango_others = 18\n",
    "rango_manager = 9\n",
    "rango_leader =6\n",
    "rango_analyst =5\n",
    "rango_qa= 4\n",
    "rango_ux= 3\n",
    "rango_engineer= 2\n",
    "rango_escala=55\n",
    "\n",
    "print(\"Grafico 2 - Roles con mayor % de participación\")\n",
    "print(\"Developer |\" ,repeat_character(\"-\",1,rango_developer),rango_developer,\"%\")\n",
    "print(\"Others    |\" ,repeat_character(\"-\",1,rango_others),rango_others,\"%\")\n",
    "print(\"Manager   |\" ,repeat_character(\"-\",1,rango_manager),rango_manager,\"%\")\n",
    "print(\"Leader    |\" ,repeat_character(\"-\",1,rango_leader),rango_leader,\"%\")\n",
    "print(\"Analyst   |\" ,repeat_character(\"-\",1,rango_analyst),rango_analyst,\"%\")\n",
    "print(\"QA        |\" ,repeat_character(\"-\",1,rango_qa),rango_qa,\"%\")\n",
    "print(\"UX-UI     |\" ,repeat_character(\"-\",1,rango_ux),rango_ux,\"%\")\n",
    "print(\"Engineer  |\" ,repeat_character(\"-\",1,rango_engineer),rango_engineer,\"%\")\n"
   ]
  }
 ],
 "metadata": {
  "kernelspec": {
   "display_name": "Python 3",
   "language": "python",
   "name": "python3"
  },
  "language_info": {
   "codemirror_mode": {
    "name": "ipython",
    "version": 3
   },
   "file_extension": ".py",
   "mimetype": "text/x-python",
   "name": "python",
   "nbconvert_exporter": "python",
   "pygments_lexer": "ipython3",
   "version": "3.8.8"
  }
 },
 "nbformat": 4,
 "nbformat_minor": 5
}
